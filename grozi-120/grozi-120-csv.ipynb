{
 "cells": [
  {
   "cell_type": "code",
   "execution_count": 1,
   "metadata": {},
   "outputs": [],
   "source": [
    "import pandas as pd "
   ]
  },
  {
   "cell_type": "code",
   "execution_count": 2,
   "metadata": {},
   "outputs": [],
   "source": [
    "# Read the text file and split the lines into a list\n",
    "with open('grozi-120/index/index2/UPC_index.txt', 'r') as file:\n",
    "    lines = file.readlines()\n",
    "\n",
    "# Initialize an empty list to store product names\n",
    "product_names = []\n",
    "\n",
    "# Process the lines to extract the product names\n",
    "for line in lines:\n",
    "    line = line.strip()  # Remove leading/trailing whitespaces\n",
    "    if line.isdigit():\n",
    "        continue  # Skip lines containing only numbers (like UPC code)\n",
    "    if line:\n",
    "        product_names.append(line)\n",
    "\n",
    "# Convert the list to a pandas Series or a simple Python array\n",
    "product_names_series = pd.Series(product_names)\n",
    "# Alternatively, if you prefer a simple Python array:\n",
    "# product_names_array = product_names\n"
   ]
  },
  {
   "cell_type": "code",
   "execution_count": 3,
   "metadata": {},
   "outputs": [],
   "source": [
    "#in vitro loading web values from info.txt\n",
    "path='grozi-120/inVitro/'\n",
    "info='info.txt'\n",
    "file_names=[]\n",
    "fold_names=[]\n",
    "class_names=[]\n",
    "class_labels=[]\n",
    "\n",
    "#read all folds \n",
    "for k in range(1,121):\n",
    "    #Read the text file into a pandas DataFrame\n",
    "    file_path=path+str(k)+'/'+info\n",
    "    data = pd.read_csv(file_path, sep=':', header=None, names=['key', 'value'], squeeze=True)\n",
    "\n",
    "    # Filter the DataFrame to get the value associated with 'web'\n",
    "    value_web = data[data['key'].str.strip() == 'web']['value'].iloc[0]\n",
    "\n",
    "    # Convert the value to an integer\n",
    "    value_web = int(value_web)\n",
    "    \n",
    "    #iterate over the value and store it in csv\n",
    "    for v in range(1,value_web+1):\n",
    "        file_name='web'+str(v)+'.jpg'\n",
    "        file_names.append(file_name)\n",
    "        fold_names.append(k)\n",
    "        class_names.append(product_names_series[k])\n",
    "        class_labels.append(k-1)\n"
   ]
  },
  {
   "cell_type": "code",
   "execution_count": 3,
   "metadata": {},
   "outputs": [],
   "source": [
    "#in situ loading web values from info.txt\n",
    "path='grozi-120/inSitu/'\n",
    "info='info.txt'\n",
    "file_names=[]\n",
    "fold_names=[]\n",
    "class_names=[]\n",
    "class_labels=[]\n",
    "\n",
    "#read all folds \n",
    "for k in range(1,121):\n",
    "    #Read the text file into a pandas DataFrame\n",
    "    file_path=path+str(k)+'/'+info\n",
    "    data = pd.read_csv(file_path, sep=':', header=None, names=['key', 'value'], squeeze=True)\n",
    "\n",
    "    # Filter the DataFrame to get the value associated with 'web'\n",
    "    value_web = data[data['key'].str.strip() == 'video']['value'].iloc[0]\n",
    "\n",
    "    # Convert the value to an integer\n",
    "    value_web = int(value_web)\n",
    "    \n",
    "    #iterate over the value and store it in csv\n",
    "    for v in range(1,value_web+1):\n",
    "        file_name='video'+str(v)+'.png'\n",
    "        file_names.append(file_name)\n",
    "        fold_names.append(k)\n",
    "        class_names.append(product_names_series[k])\n",
    "        class_labels.append(k-1)\n"
   ]
  },
  {
   "cell_type": "code",
   "execution_count": 4,
   "metadata": {},
   "outputs": [],
   "source": [
    "#store values in csv invitro or insitu \n",
    "data={\n",
    "    \"file_name\":file_names,\n",
    "    \"fold\":fold_names,\n",
    "    \"class_names\":class_names,\n",
    "    \"class_labels\":class_labels,\n",
    "}\n",
    "df=pd.DataFrame(data)\n",
    "df.to_csv('in-situ-data.csv',index=False)"
   ]
  },
  {
   "cell_type": "code",
   "execution_count": 1,
   "metadata": {},
   "outputs": [],
   "source": [
    "#mean and std from image dataset \n",
    "def mean_std(loader):\n",
    "  images, lebels = next(iter(loader))\n",
    "  # shape of images = [b,c,w,h]\n",
    "  mean, std = images.mean([0,2,3]), images.std([0,2,3])\n",
    "  return mean, std"
   ]
  },
  {
   "cell_type": "code",
   "execution_count": null,
   "metadata": {},
   "outputs": [],
   "source": []
  }
 ],
 "metadata": {
  "kernelspec": {
   "display_name": "Python 3",
   "language": "python",
   "name": "python3"
  },
  "language_info": {
   "codemirror_mode": {
    "name": "ipython",
    "version": 3
   },
   "file_extension": ".py",
   "mimetype": "text/x-python",
   "name": "python",
   "nbconvert_exporter": "python",
   "pygments_lexer": "ipython3",
   "version": "3.8.10"
  },
  "orig_nbformat": 4
 },
 "nbformat": 4,
 "nbformat_minor": 2
}
